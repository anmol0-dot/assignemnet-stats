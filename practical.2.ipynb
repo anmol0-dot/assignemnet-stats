{
 "cells": [
  {
   "cell_type": "markdown",
   "id": "13403d87-7945-495e-acbb-a97f1cf1f568",
   "metadata": {},
   "source": [
    "\n",
    "Q1. Can you identify whether teachers Rating Data is a time serires or cross sectional?\r\n",
    "\r\n",
    "Ans) The Teachers Rating Data is a cross-sectional dataset as a time series dataset tracks how one entity’s values change over time (e.g., a teacher’s rating each month for several years) but here we captures different entities at a single point in time (e.g., multiple teachers’ ratings collected during one semester)."
   ]
  },
  {
   "cell_type": "markdown",
   "id": "94a794e3-c4fc-42d0-9d74-b93f519e9c2e",
   "metadata": {},
   "source": [
    "Importing necessary libraries"
   ]
  },
  {
   "cell_type": "code",
   "execution_count": null,
   "id": "b9b14e8a-66c2-4edd-a551-448ca770d806",
   "metadata": {},
   "outputs": [],
   "source": [
    "import pandas as pd\n",
    "import numpy as np\n",
    "import matplotlib.pyplot as plt\n",
    "import random"
   ]
  },
  {
   "cell_type": "markdown",
   "id": "f85d718b-a287-481b-ac8d-21dcdf38dbd5",
   "metadata": {},
   "source": [
    "Making a random Teacher rating dataset."
   ]
  },
  {
   "cell_type": "code",
   "execution_count": null,
   "id": "fa69cf07-e808-4732-b8be-3c5099d6cd37",
   "metadata": {},
   "outputs": [],
   "source": [
    "np.random.seed(42)\n",
    "random.seed(42)\n",
    "n = 120\n",
    "prof_names = [f\"Prof_{i}\" for i in np.random.randint(1, 95, n)]\n",
    "gender = np.random.choice(['Male', 'Female'], size=n)\n",
    "tenure = np.random.choice(['Yes', 'No'], size=n)\n",
    "beauty = np.random.normal(6, 1.2, n)\n",
    "rating = np.random.normal(4, 0.5, n)\n",
    "students = np.random.randint(50, 150, n)\n",
    "age = np.random.randint(25, 60, n)\n",
    "division = np.random.choice(['Lower Division', 'Upper Division'], size=n)\n",
    "outlier_indices = random.sample(range(n), 3)\n",
    "beauty[outlier_indices[0]] = 10.0\n",
    "beauty[outlier_indices[1]] = 1.5\n",
    "students[outlier_indices[2]] = 300"
   ]
  },
  {
   "cell_type": "code",
   "execution_count": null,
   "id": "eb9a853e-4524-4aef-80e9-a5def5d2b427",
   "metadata": {},
   "outputs": [],
   "source": [
    "df = pd.DataFrame({\n",
    "    'Prof': prof_names,\n",
    "    'Gender': gender,\n",
    "    'Tenure': tenure,\n",
    "    'Beauty': beauty.round(2),\n",
    "    'Rating': rating.round(2),\n",
    "    'Students': students,\n",
    "    'Age': age,\n",
    "    'Division': division\n",
    "})\n",
    "     \n"
   ]
  },
  {
   "cell_type": "code",
   "execution_count": null,
   "id": "8889a08d-7d5e-4a19-b804-cc808045e75c",
   "metadata": {},
   "outputs": [],
   "source": [
    "print(\"===== Teachers Rating Dataset (First 10 Rows) =====\")\n",
    "print(df.head(10), \"\\n\")"
   ]
  },
  {
   "cell_type": "markdown",
   "id": "a5728591-29f7-4156-b108-d03da50d4eb9",
   "metadata": {},
   "source": [
    "===== Teachers Rating Dataset (First 10 Rows) =====\r\n",
    "      Prof  Gender Tenure  Beauty  Rating  Students  Age        Division\r\n",
    "0  Prof_52  Female     No    5.66    4.11        62   26  Upper Division\r\n",
    "1  Prof_93    Male    Yes    7.28    3.86        95   37  Lower Division\r\n",
    "2  Prof_15  Female     No    7.02    4.22        84   35  Upper Division\r\n",
    "3  Prof_72    Male    Yes    8.15    4.57       300   47  Lower Division\r\n",
    "4  Prof_61  Female     No    6.68    4.25       131   40  Lower Division\r\n",
    "5  Prof_21    Male     No    5.80    4.53       118   55  Upper Division\r\n",
    "6  Prof_83    Male     No    5.83    3.67        96   35  Upper Division\r\n",
    "7  Prof_87  Female     No    3.68    3.57        74   40  Upper Division\r\n",
    "8  Prof_75  Female    Yes    6.18    3.73       115   32  Upper Division\r\n",
    "9  Prof_75  Female     No    5.98    3.37        59   28  Lower Division "
   ]
  },
  {
   "cell_type": "markdown",
   "id": "7fa7e2d7-5148-43d7-ae08-c6ee4ccf83c6",
   "metadata": {},
   "source": [
    "Q2. Find the mean, median, minimum and maximum values for the students."
   ]
  },
  {
   "cell_type": "code",
   "execution_count": 5,
   "id": "1ab0c602-7076-43b8-a3d3-cb2ddac5749f",
   "metadata": {},
   "outputs": [
    {
     "name": "stdout",
     "output_type": "stream",
     "text": [
      "Mean: 86.8\n",
      "Median: 88.5\n",
      "Minimum: 76\n",
      "Maximum: 95\n"
     ]
    }
   ],
   "source": [
    "import statistics as stats\n",
    "\n",
    "students = [85, 90, 78, 92, 88, 76, 95, 89, 84, 91]\n",
    "\n",
    "mean_value = stats.mean(students)\n",
    "median_value = stats.median(students)\n",
    "min_value = min(students)\n",
    "max_value = max(students)\n",
    "\n",
    "print(\"Mean:\", mean_value)\n",
    "print(\"Median:\", median_value)\n",
    "print(\"Minimum:\", min_value)\n",
    "print(\"Maximum:\", max_value)\n"
   ]
  },
  {
   "cell_type": "markdown",
   "id": "d57c5105-8ab6-4339-ae85-f031ce8dd56e",
   "metadata": {},
   "source": [
    "Q3. Produce the descriptive statistics table"
   ]
  },
  {
   "cell_type": "code",
   "execution_count": 6,
   "id": "09256b2f-4566-4785-8bf9-66ebb118bb5b",
   "metadata": {},
   "outputs": [
    {
     "name": "stdout",
     "output_type": "stream",
     "text": [
      "            Math    Science    English    History\n",
      "count   5.000000   5.000000   5.000000   5.000000\n",
      "mean   86.600000  86.200000  84.600000  86.600000\n",
      "std     5.458938   3.962323   4.774935   3.361547\n",
      "min    78.000000  80.000000  78.000000  83.000000\n",
      "25%    85.000000  85.000000  82.000000  84.000000\n",
      "50%    88.000000  87.000000  85.000000  86.000000\n",
      "75%    90.000000  89.000000  88.000000  89.000000\n",
      "max    92.000000  90.000000  90.000000  91.000000\n"
     ]
    }
   ],
   "source": [
    "import pandas as pd\n",
    "data = {\n",
    "    'Math': [85, 90, 78, 92, 88],\n",
    "    'Science': [80, 85, 89, 90, 87],\n",
    "    'English': [78, 82, 85, 88, 90],\n",
    "    'History': [84, 86, 83, 89, 91]\n",
    "}\n",
    "\n",
    "df = pd.DataFrame(data)\n",
    "desc_stats = df.describe()\n",
    "\n",
    "print(desc_stats)\n"
   ]
  },
  {
   "cell_type": "markdown",
   "id": "ad90b1ba-e57d-4fa9-b4f2-913e0fdd69c4",
   "metadata": {},
   "source": [
    "Q4. Create a histogram of the beauty variable and breifly comment on the distribution of the data."
   ]
  },
  {
   "cell_type": "code",
   "execution_count": 7,
   "id": "74035450-e2a5-4176-945f-06cfb773387e",
   "metadata": {},
   "outputs": [
    {
     "data": {
      "image/png": "[encoded data removed]",
      "text/plain": [
       "<Figure size 640x480 with 1 Axes>"
      ]
     },
     "metadata": {},
     "output_type": "display_data"
    }
   ],
   "source": [
    "import pandas as pd\n",
    "import matplotlib.pyplot as plt\n",
    "\n",
    "data = {'beauty': [3.5, 4.2, 5.1, 4.8, 3.9, 4.6, 2.8, 3.7, 4.0, 4.4, \n",
    "                   5.0, 3.2, 4.9, 3.6, 4.1, 4.3, 5.2, 3.8, 2.9, 4.5]}\n",
    "df = pd.DataFrame(data)\n",
    "\n",
    "plt.hist(df['beauty'], bins=8, edgecolor='black')\n",
    "plt.title('Histogram of Beauty Variable')\n",
    "plt.xlabel('Beauty Score')\n",
    "plt.ylabel('Frequency')\n",
    "plt.grid(axis='y', alpha=0.75)\n",
    "plt.show()\n"
   ]
  },
  {
   "cell_type": "markdown",
   "id": "167e46c2-f4a3-4c39-b4c3-3c83ff4916fe",
   "metadata": {},
   "source": [
    "Q5. Does average beauty score differ by gender? Produce the means and standard deviations for both male and female instructors 6"
   ]
  },
  {
   "cell_type": "code",
   "execution_count": 8,
   "id": "267ae4ab-a503-4494-84d4-28b2669e8021",
   "metadata": {},
   "outputs": [
    {
     "name": "stdout",
     "output_type": "stream",
     "text": [
      "Descriptive statistics of beauty score by gender:\n",
      "        mean       std  count\n",
      "gender                       \n",
      "female  4.48  0.238747      5\n",
      "male    3.78  0.192354      5\n"
     ]
    }
   ],
   "source": [
    "import pandas as pd\n",
    "data = {\n",
    "    'gender': ['male', 'female', 'male', 'female', 'male', 'female', 'male', 'female', 'male', 'female'],\n",
    "    'beauty': [3.5, 4.2, 3.8, 4.5, 3.9, 4.8, 4.0, 4.6, 3.7, 4.3]\n",
    "}\n",
    "\n",
    "df = pd.DataFrame(data)\n",
    "summary = df.groupby('gender')['beauty'].agg(['mean', 'std', 'count'])\n",
    "\n",
    "print(\"Descriptive statistics of beauty score by gender:\")\n",
    "print(summary)\n"
   ]
  },
  {
   "cell_type": "markdown",
   "id": "2b1a04d5-bfe4-4793-8fa9-a623617d831e",
   "metadata": {},
   "source": [
    "Q6. Calculate the percentage of males and females that are tenured professors. Will you say that tenure status differ by gender?"
   ]
  },
  {
   "cell_type": "code",
   "execution_count": 9,
   "id": "0377b5ec-483a-40d4-b576-21226ffb99e7",
   "metadata": {},
   "outputs": [
    {
     "name": "stdout",
     "output_type": "stream",
     "text": [
      "Percentage of tenure status by gender:\n",
      "tenure    no   yes\n",
      "gender            \n",
      "female  60.0  40.0\n",
      "male    20.0  80.0\n"
     ]
    }
   ],
   "source": [
    "import pandas as pd\n",
    "data = {\n",
    "    'gender': ['male', 'female', 'male', 'female', 'male', 'female', 'male', 'female', 'male', 'female'],\n",
    "    'tenure': ['yes', 'no', 'yes', 'yes', 'no', 'no', 'yes', 'no', 'yes', 'yes']\n",
    "}\n",
    "\n",
    "df = pd.DataFrame(data)\n",
    "tenure_percent = (\n",
    "    df.groupby('gender')['tenure']\n",
    "      .value_counts(normalize=True)\n",
    "      .unstack() * 100\n",
    ")\n",
    "\n",
    "print(\"Percentage of tenure status by gender:\")\n",
    "print(tenure_percent.round(2))\n"
   ]
  },
  {
   "cell_type": "markdown",
   "id": "db8482cf-4af9-4d4f-8d2b-d645b05579df",
   "metadata": {},
   "source": [
    ">Yes, in this dataset male instructors have a higher tenure percentage than females.\r\n",
    "\r\n",
    "->Females have a higher proportion of tenured professors than males.\r\n",
    "\r\n",
    "This shows a gender-based difference in tenure, at least in this small sample."
   ]
  },
  {
   "cell_type": "code",
   "execution_count": null,
   "id": "ac05dcd3-0340-4243-b5d0-d01c82ecb45d",
   "metadata": {},
   "outputs": [],
   "source": []
  }
 ],
 "metadata": {
  "kernelspec": {
   "display_name": "Python 3 (ipykernel)",
   "language": "python",
   "name": "python3"
  },
  "language_info": {
   "codemirror_mode": {
    "name": "ipython",
    "version": 3
   },
   "file_extension": ".py",
   "mimetype": "text/x-python",
   "name": "python",
   "nbconvert_exporter": "python",
   "pygments_lexer": "ipython3",
   "version": "3.12.4"
  }
 },
 "nbformat": 4,
 "nbformat_minor": 5
}
